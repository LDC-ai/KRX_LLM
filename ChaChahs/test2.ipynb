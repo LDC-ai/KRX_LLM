{
 "cells": [
  {
   "cell_type": "code",
   "execution_count": 1,
   "metadata": {},
   "outputs": [
    {
     "name": "stderr",
     "output_type": "stream",
     "text": [
      "/home/elicer/.local/lib/python3.10/site-packages/tqdm/auto.py:21: TqdmWarning: IProgress not found. Please update jupyter and ipywidgets. See https://ipywidgets.readthedocs.io/en/stable/user_install.html\n",
      "  from .autonotebook import tqdm as notebook_tqdm\n"
     ]
    },
    {
     "name": "stdout",
     "output_type": "stream",
     "text": [
      "🦥 Unsloth: Will patch your computer to enable 2x faster free finetuning.\n"
     ]
    },
    {
     "name": "stderr",
     "output_type": "stream",
     "text": [
      "/tmp/ipykernel_34440/532586155.py:7: LangChainDeprecationWarning: The class `HuggingFaceHub` was deprecated in LangChain 0.0.21 and will be removed in 1.0. An updated version of the class exists in the :class:`~langchain-huggingface package and should be used instead. To use it run `pip install -U :class:`~langchain-huggingface` and import as `from :class:`~langchain_huggingface import HuggingFaceEndpoint``.\n",
      "  qwen_llm = HuggingFaceHub(\n"
     ]
    },
    {
     "ename": "ValidationError",
     "evalue": "1 validation error for HuggingFaceHub\n  Value error, Did not find huggingfacehub_api_token, please add an environment variable `HUGGINGFACEHUB_API_TOKEN` which contains it, or pass `huggingfacehub_api_token` as a named parameter. [type=value_error, input_value={'repo_id': 'Qwen/Qwen-7B...acehub_api_token': None}, input_type=dict]\n    For further information visit https://errors.pydantic.dev/2.9/v/value_error",
     "output_type": "error",
     "traceback": [
      "\u001b[0;31m---------------------------------------------------------------------------\u001b[0m",
      "\u001b[0;31mValidationError\u001b[0m                           Traceback (most recent call last)",
      "\u001b[1;32m/home/elicer/KRX_LLM/ChaChahs/test2.ipynb Cell 1\u001b[0m line \u001b[0;36m7\n\u001b[1;32m      <a href='vscode-notebook-cell://jjscbfnfdnqwcjjm.tunnel-pt.elice.io/home/elicer/KRX_LLM/ChaChahs/test2.ipynb#W0sdnNjb2RlLXJlbW90ZQ%3D%3D?line=3'>4</a>\u001b[0m \u001b[39mfrom\u001b[39;00m \u001b[39munsloth\u001b[39;00m \u001b[39mimport\u001b[39;00m FastLanguageModel\n\u001b[1;32m      <a href='vscode-notebook-cell://jjscbfnfdnqwcjjm.tunnel-pt.elice.io/home/elicer/KRX_LLM/ChaChahs/test2.ipynb#W0sdnNjb2RlLXJlbW90ZQ%3D%3D?line=5'>6</a>\u001b[0m \u001b[39m# Qwen-7B와 Llama 3.1을 HuggingFaceHub를 통해 Langraph에서 사용할 수 있도록 설정\u001b[39;00m\n\u001b[0;32m----> <a href='vscode-notebook-cell://jjscbfnfdnqwcjjm.tunnel-pt.elice.io/home/elicer/KRX_LLM/ChaChahs/test2.ipynb#W0sdnNjb2RlLXJlbW90ZQ%3D%3D?line=6'>7</a>\u001b[0m qwen_llm \u001b[39m=\u001b[39m HuggingFaceHub(\n\u001b[1;32m      <a href='vscode-notebook-cell://jjscbfnfdnqwcjjm.tunnel-pt.elice.io/home/elicer/KRX_LLM/ChaChahs/test2.ipynb#W0sdnNjb2RlLXJlbW90ZQ%3D%3D?line=7'>8</a>\u001b[0m     repo_id\u001b[39m=\u001b[39;49m\u001b[39m\"\u001b[39;49m\u001b[39mQwen/Qwen-7B\u001b[39;49m\u001b[39m\"\u001b[39;49m, \n\u001b[1;32m      <a href='vscode-notebook-cell://jjscbfnfdnqwcjjm.tunnel-pt.elice.io/home/elicer/KRX_LLM/ChaChahs/test2.ipynb#W0sdnNjb2RlLXJlbW90ZQ%3D%3D?line=8'>9</a>\u001b[0m     model_kwargs\u001b[39m=\u001b[39;49m{\u001b[39m\"\u001b[39;49m\u001b[39mload_in_4bit\u001b[39;49m\u001b[39m\"\u001b[39;49m: \u001b[39mTrue\u001b[39;49;00m}\n\u001b[1;32m     <a href='vscode-notebook-cell://jjscbfnfdnqwcjjm.tunnel-pt.elice.io/home/elicer/KRX_LLM/ChaChahs/test2.ipynb#W0sdnNjb2RlLXJlbW90ZQ%3D%3D?line=9'>10</a>\u001b[0m )\n\u001b[1;32m     <a href='vscode-notebook-cell://jjscbfnfdnqwcjjm.tunnel-pt.elice.io/home/elicer/KRX_LLM/ChaChahs/test2.ipynb#W0sdnNjb2RlLXJlbW90ZQ%3D%3D?line=11'>12</a>\u001b[0m llama_llm \u001b[39m=\u001b[39m HuggingFaceHub(\n\u001b[1;32m     <a href='vscode-notebook-cell://jjscbfnfdnqwcjjm.tunnel-pt.elice.io/home/elicer/KRX_LLM/ChaChahs/test2.ipynb#W0sdnNjb2RlLXJlbW90ZQ%3D%3D?line=12'>13</a>\u001b[0m     repo_id\u001b[39m=\u001b[39m\u001b[39m\"\u001b[39m\u001b[39munsloth/Meta-Llama-3.1-8B\u001b[39m\u001b[39m\"\u001b[39m, \n\u001b[1;32m     <a href='vscode-notebook-cell://jjscbfnfdnqwcjjm.tunnel-pt.elice.io/home/elicer/KRX_LLM/ChaChahs/test2.ipynb#W0sdnNjb2RlLXJlbW90ZQ%3D%3D?line=13'>14</a>\u001b[0m     model_kwargs\u001b[39m=\u001b[39m{\u001b[39m\"\u001b[39m\u001b[39mload_in_4bit\u001b[39m\u001b[39m\"\u001b[39m: \u001b[39mTrue\u001b[39;00m}\n\u001b[1;32m     <a href='vscode-notebook-cell://jjscbfnfdnqwcjjm.tunnel-pt.elice.io/home/elicer/KRX_LLM/ChaChahs/test2.ipynb#W0sdnNjb2RlLXJlbW90ZQ%3D%3D?line=14'>15</a>\u001b[0m )\n\u001b[1;32m     <a href='vscode-notebook-cell://jjscbfnfdnqwcjjm.tunnel-pt.elice.io/home/elicer/KRX_LLM/ChaChahs/test2.ipynb#W0sdnNjb2RlLXJlbW90ZQ%3D%3D?line=16'>17</a>\u001b[0m \u001b[39m# 프롬프트 템플릿 정의 (Langraph 사용)\u001b[39;00m\n",
      "File \u001b[0;32m~/.local/lib/python3.10/site-packages/langchain_core/_api/deprecation.py:216\u001b[0m, in \u001b[0;36mdeprecated.<locals>.deprecate.<locals>.finalize.<locals>.warn_if_direct_instance\u001b[0;34m(self, *args, **kwargs)\u001b[0m\n\u001b[1;32m    214\u001b[0m     warned \u001b[39m=\u001b[39m \u001b[39mTrue\u001b[39;00m\n\u001b[1;32m    215\u001b[0m     emit_warning()\n\u001b[0;32m--> 216\u001b[0m \u001b[39mreturn\u001b[39;00m wrapped(\u001b[39mself\u001b[39;49m, \u001b[39m*\u001b[39;49margs, \u001b[39m*\u001b[39;49m\u001b[39m*\u001b[39;49mkwargs)\n",
      "File \u001b[0;32m~/.local/lib/python3.10/site-packages/langchain_core/load/serializable.py:111\u001b[0m, in \u001b[0;36mSerializable.__init__\u001b[0;34m(self, *args, **kwargs)\u001b[0m\n\u001b[1;32m    109\u001b[0m \u001b[39mdef\u001b[39;00m \u001b[39m__init__\u001b[39m(\u001b[39mself\u001b[39m, \u001b[39m*\u001b[39margs: Any, \u001b[39m*\u001b[39m\u001b[39m*\u001b[39mkwargs: Any) \u001b[39m-\u001b[39m\u001b[39m>\u001b[39m \u001b[39mNone\u001b[39;00m:\n\u001b[1;32m    110\u001b[0m \u001b[39m    \u001b[39m\u001b[39m\"\"\"\"\"\"\u001b[39;00m\n\u001b[0;32m--> 111\u001b[0m     \u001b[39msuper\u001b[39;49m()\u001b[39m.\u001b[39;49m\u001b[39m__init__\u001b[39;49m(\u001b[39m*\u001b[39;49margs, \u001b[39m*\u001b[39;49m\u001b[39m*\u001b[39;49mkwargs)\n",
      "File \u001b[0;32m~/.local/lib/python3.10/site-packages/pydantic/main.py:212\u001b[0m, in \u001b[0;36mBaseModel.__init__\u001b[0;34m(self, **data)\u001b[0m\n\u001b[1;32m    210\u001b[0m \u001b[39m# `__tracebackhide__` tells pytest and some other tools to omit this function from tracebacks\u001b[39;00m\n\u001b[1;32m    211\u001b[0m __tracebackhide__ \u001b[39m=\u001b[39m \u001b[39mTrue\u001b[39;00m\n\u001b[0;32m--> 212\u001b[0m validated_self \u001b[39m=\u001b[39m \u001b[39mself\u001b[39;49m\u001b[39m.\u001b[39;49m__pydantic_validator__\u001b[39m.\u001b[39;49mvalidate_python(data, self_instance\u001b[39m=\u001b[39;49m\u001b[39mself\u001b[39;49m)\n\u001b[1;32m    213\u001b[0m \u001b[39mif\u001b[39;00m \u001b[39mself\u001b[39m \u001b[39mis\u001b[39;00m \u001b[39mnot\u001b[39;00m validated_self:\n\u001b[1;32m    214\u001b[0m     warnings\u001b[39m.\u001b[39mwarn(\n\u001b[1;32m    215\u001b[0m         \u001b[39m'\u001b[39m\u001b[39mA custom validator is returning a value other than `self`.\u001b[39m\u001b[39m\\n\u001b[39;00m\u001b[39m'\u001b[39m\n\u001b[1;32m    216\u001b[0m         \u001b[39m\"\u001b[39m\u001b[39mReturning anything other than `self` from a top level model validator isn\u001b[39m\u001b[39m'\u001b[39m\u001b[39mt supported when validating via `__init__`.\u001b[39m\u001b[39m\\n\u001b[39;00m\u001b[39m\"\u001b[39m\n\u001b[1;32m    217\u001b[0m         \u001b[39m'\u001b[39m\u001b[39mSee the `model_validator` docs (https://docs.pydantic.dev/latest/concepts/validators/#model-validators) for more details.\u001b[39m\u001b[39m'\u001b[39m,\n\u001b[1;32m    218\u001b[0m         category\u001b[39m=\u001b[39m\u001b[39mNone\u001b[39;00m,\n\u001b[1;32m    219\u001b[0m     )\n",
      "\u001b[0;31mValidationError\u001b[0m: 1 validation error for HuggingFaceHub\n  Value error, Did not find huggingfacehub_api_token, please add an environment variable `HUGGINGFACEHUB_API_TOKEN` which contains it, or pass `huggingfacehub_api_token` as a named parameter. [type=value_error, input_value={'repo_id': 'Qwen/Qwen-7B...acehub_api_token': None}, input_type=dict]\n    For further information visit https://errors.pydantic.dev/2.9/v/value_error"
     ]
    }
   ],
   "source": [
    "from langchain.chains import SimpleSequentialChain\n",
    "from langchain.prompts import PromptTemplate\n",
    "from langchain.llms import HuggingFaceHub\n",
    "from unsloth import FastLanguageModel\n",
    "\n",
    "# Qwen-7B와 Llama 3.1을 HuggingFaceHub를 통해 Langraph에서 사용할 수 있도록 설정\n",
    "qwen_llm = HuggingFaceHub(\n",
    "    repo_id=\"Qwen/Qwen-7B\", \n",
    "    model_kwargs={\"load_in_4bit\": True}\n",
    ")\n",
    "\n",
    "llama_llm = HuggingFaceHub(\n",
    "    repo_id=\"unsloth/Meta-Llama-3.1-8B\", \n",
    "    model_kwargs={\"load_in_4bit\": True}\n",
    ")\n",
    "\n",
    "# 프롬프트 템플릿 정의 (Langraph 사용)\n",
    "qwen_prompt_template = PromptTemplate(\n",
    "    input_variables=[\"instruction\"],\n",
    "    template=\"\"\"\n",
    "    You are a financial expert. Based on the following instruction, provide a detailed financial response:\n",
    "    \n",
    "    Instruction: {instruction}\n",
    "    \n",
    "    Response:\n",
    "    \"\"\"\n",
    ")\n"
   ]
  },
  {
   "cell_type": "code",
   "execution_count": null,
   "metadata": {},
   "outputs": [],
   "source": [
    "llama_prompt_template = PromptTemplate(\n",
    "    input_variables=[\"instruction\", \"qwen_output\"],\n",
    "    template=\"\"\"\n",
    "    You are tasked with validating and expanding on the response provided by another model. \n",
    "    Review the response below and provide further analysis or corrections if needed.\n",
    "\n",
    "    Instruction: {instruction}\n",
    "    \n",
    "    Previous Response: {qwen_output}\n",
    "    \n",
    "    Enhanced Response:\n",
    "    \"\"\"\n",
    ")\n",
    "\n",
    "# Qwen-7B의 응답을 처리하는 함수\n",
    "def qwen_response(instruction: str):\n",
    "    prompt = qwen_prompt_template.format(instruction=instruction)\n",
    "    return qwen_llm(prompt)\n",
    "\n",
    "# Llama 3.1이 Qwen-7B의 출력을 기반으로 추가 분석하는 함수\n",
    "def llama_response(instruction: str, qwen_output: str):\n",
    "    prompt = llama_prompt_template.format(instruction=instruction, qwen_output=qwen_output)\n",
    "    return llama_llm(prompt)\n",
    "\n",
    "# Qwen-7B와 Llama 3.1이 협업하여 응답을 생성하는 체인 구성\n",
    "def run_financial_agent(instruction: str):\n",
    "    qwen_output = qwen_response(instruction)\n",
    "    llama_output = llama_response(instruction, qwen_output)\n",
    "    return llama_output\n"
   ]
  },
  {
   "cell_type": "code",
   "execution_count": null,
   "metadata": {},
   "outputs": [],
   "source": [
    "# 테스트할 입력\n",
    "instruction = \"수요와 공급의 원리에 대해서 설명해줘.\"\n",
    "\n",
    "# Langraph 방식으로 Qwen과 Llama가 협력하여 답변을 생성\n",
    "final_output = run_financial_agent(instruction)\n",
    "\n",
    "print(\"Final Output:\")\n",
    "print(final_output)"
   ]
  }
 ],
 "metadata": {
  "kernelspec": {
   "display_name": "Python 3",
   "language": "python",
   "name": "python3"
  },
  "language_info": {
   "codemirror_mode": {
    "name": "ipython",
    "version": 3
   },
   "file_extension": ".py",
   "mimetype": "text/x-python",
   "name": "python",
   "nbconvert_exporter": "python",
   "pygments_lexer": "ipython3",
   "version": "3.10.13"
  }
 },
 "nbformat": 4,
 "nbformat_minor": 2
}
