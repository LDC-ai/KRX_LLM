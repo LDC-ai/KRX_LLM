{
 "cells": [
  {
   "cell_type": "code",
   "execution_count": null,
   "metadata": {},
   "outputs": [],
   "source": [
    "import pandas as pd\n",
    "from datasets import load_dataset, Dataset\n",
    "import random\n",
    "from litellm import completion, batch_completion\n",
    "import os\n",
    "import litellm\n",
    "\n",
    "# OpenAI API key 선언\n",
    "# os.environ[\"OPENAI_API_KEY\"] = \"sk-xxx...\""
   ]
  },
  {
   "cell_type": "code",
   "execution_count": null,
   "metadata": {},
   "outputs": [],
   "source": [
    "def get_random_section(long_string, length=1000):\n",
    "    if len(long_string) <= length:\n",
    "        return long_string\n",
    "\n",
    "    start_index = random.randint(0, len(long_string) - length)\n",
    "\n",
    "    return long_string[start_index:start_index + length]"
   ]
  },
  {
   "cell_type": "code",
   "execution_count": null,
   "metadata": {},
   "outputs": [],
   "source": [
    "# 데이터셋 로드\n",
    "ds = load_dataset('alvanlii/finance-textbooks')['train']\n",
    "\n",
    "# 데이터셋 샘플링 - get_random_section\n",
    "texts = []\n",
    "for bt in ds['book_text']:\n",
    "    for i in range(2):\n",
    "        texts.append(get_random_section(bt, 2048))"
   ]
  },
  {
   "cell_type": "code",
   "execution_count": null,
   "metadata": {},
   "outputs": [],
   "source": [
    "# chat prompt 포맷팅\n",
    "qrys = []\n",
    "for t in texts:\n",
    "    messages = [\n",
    "    {\"content\":\"Your job is creating multi-hop reasoning questions in fluent Korean. You will be given a part of a text. Make a question based on it. The question should require multiple steps of reasoning related to the text. Return the question only without any other text.\",\"role\":\"system\"},\n",
    "    { \"content\": t,\"role\": \"user\"}]\n",
    "    qrys.append(messages)\n",
    "\n",
    "# 1. raw text 데이터를 활용한 질문 생성\n",
    "responses = batch_completion(\n",
    "    model=\"gpt-4o-mini-2024-07-18\",\n",
    "    messages = qrys\n",
    ")\n",
    "resps = [i.choices[0].message.content for i in responses]\n",
    "total_prompt_tokens_for_q = sum([r.usage.prompt_tokens for r in responses])\n",
    "total_completion_tokens_for_q = sum([r.usage.completion_tokens for r in responses])\n",
    "df = pd.DataFrame({'sampled_text':texts,'question':resps})"
   ]
  },
  {
   "cell_type": "code",
   "execution_count": null,
   "metadata": {},
   "outputs": [],
   "source": [
    "# 답변 생성용 prompt 포맷팅\n",
    "qrys = []\n",
    "for t in resps:\n",
    "    messages = [\n",
    "    {\"content\":\"You are a skilled financial expert in Korea. Make a response for the question. DO NOT introduce yourself.\",\"role\":\"system\"},\n",
    "    { \"content\": t,\"role\": \"user\"}]\n",
    "    qrys.append(messages)\n",
    "\n",
    "# 2. 생성된 질문에 대한 답변 생성\n",
    "responses = batch_completion(\n",
    "    model=\"gpt-4o-mini-2024-07-18\",\n",
    "    messages = qrys\n",
    ")\n",
    "resps = [i.choices[0].message.content for i in responses]\n",
    "df['response'] = resps\n",
    "total_prompt_tokens_for_a = sum([r.usage.prompt_tokens for r in responses])\n",
    "total_completion_tokens_for_a = sum([r.usage.completion_tokens for r in responses])"
   ]
  },
  {
   "cell_type": "code",
   "execution_count": null,
   "metadata": {},
   "outputs": [],
   "source": [
    "print('total prompt tokens:', total_prompt_tokens_for_q + total_prompt_tokens_for_a)\n",
    "print('prompt token costs: $', round((total_prompt_tokens_for_q + total_prompt_tokens_for_a) / 1000000 * 0.150, 6))\n",
    "print('total completion tokens:', total_completion_tokens_for_q + total_completion_tokens_for_a)\n",
    "print('completion token costs: $', round((total_completion_tokens_for_q + total_completion_tokens_for_a) / 1000000 * 0.600, 6))"
   ]
  },
  {
   "cell_type": "code",
   "execution_count": null,
   "metadata": {},
   "outputs": [],
   "source": [
    "# CSV 파일 저장\n",
    "df.to_csv(\"output_path/result.csv\")\n",
    "\n",
    "# Excel 파일 저장\n",
    "df.to_excel(\"output_path/result.xlsx\")\n",
    "\n",
    "# HuggingFace Hub 업로드 - token에 개인 HuggingFace 토큰을 입력해주시면 됩니다.\n",
    "result_df = Dataset.from_pandas(df)\n",
    "result_df.push_to_hub(\"hf/dataset\", token=\"HF_TOKEN\")\n",
    "\n",
    "df.head()"
   ]
  },
  {
   "cell_type": "code",
   "execution_count": null,
   "metadata": {},
   "outputs": [],
   "source": []
  }
 ],
 "metadata": {
  "language_info": {
   "name": "python"
  }
 },
 "nbformat": 4,
 "nbformat_minor": 2
}
